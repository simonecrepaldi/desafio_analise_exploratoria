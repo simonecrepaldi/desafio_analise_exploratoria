{
  "nbformat": 4,
  "nbformat_minor": 0,
  "metadata": {
    "colab": {
      "name": "desafio01.ipynb",
      "provenance": [],
      "collapsed_sections": [
        "H7DlkXPfF3Nv",
        "3LSvyKyPGexj",
        "rTlRNO7FG4TH",
        "bsBogl7gHy1u",
        "eFz4J03jKI-W",
        "F6UrG_YINqVJ",
        "O-6YHgTy80Dx",
        "b7A3Fkrkjzm8",
        "iuPyD0DdPV9b",
        "KYesq-Tshf6p",
        "uOS7CBf14nTo",
        "vrQkLbrWD4Gz",
        "vMzKZuBRMt8G"
      ],
      "toc_visible": true
    },
    "kernelspec": {
      "name": "python3",
      "display_name": "Python 3"
    },
    "language_info": {
      "name": "python"
    }
  },
  "cells": [
    {
      "cell_type": "markdown",
      "source": [
        "# **DESAFIO TERA - ANÁLISE EXPLORATÓRIA**\n",
        "\n",
        "Este foi o primeiro desafio proposto no curso e foram disponibilizados três datasets e o roteiro a ser seguido.\n"
      ],
      "metadata": {
        "id": "wlWDJodIEd9x"
      }
    },
    {
      "cell_type": "markdown",
      "source": [
        "# Importando os arquivos do Drive e as bibliotecas"
      ],
      "metadata": {
        "id": "xn5SV_e3EoQE"
      }
    },
    {
      "cell_type": "code",
      "source": [
        "from google.colab import drive\n",
        "drive.mount('/content/drive')"
      ],
      "metadata": {
        "id": "ad_fDjfEEmZZ"
      },
      "execution_count": null,
      "outputs": []
    },
    {
      "cell_type": "code",
      "source": [
        "import pandas as pd\n",
        "import matplotlib.pyplot as plt\n",
        "import seaborn as sns\n",
        "import plotly.express as px\n",
        "import numpy as np\n",
        "import math\n",
        "\n",
        "dados1 = pd.read_csv('/content/drive/MyDrive/Desafio1/dataset1.csv', encoding='iso8859-1')\n",
        "dados2 = pd.read_csv('/content/drive/MyDrive/Desafio1/dataset2.csv', encoding='iso8859-1')\n",
        "dados3 = pd.read_csv('/content/drive/MyDrive/Desafio1/dataset3.csv', encoding='iso8859-1')"
      ],
      "metadata": {
        "id": "I9YhJvSNE11I"
      },
      "execution_count": null,
      "outputs": []
    },
    {
      "cell_type": "markdown",
      "source": [
        "# Obtendo informações sobre o Dataset1"
      ],
      "metadata": {
        "id": "b7E8C6ehFDsT"
      }
    },
    {
      "cell_type": "code",
      "source": [
        "dados1.info()"
      ],
      "metadata": {
        "id": "XQ9s7JPWFEXy"
      },
      "execution_count": null,
      "outputs": []
    },
    {
      "cell_type": "markdown",
      "source": [
        "**Quantas linhas e quantas colunas esse dataset possui?**\n",
        "\n",
        "106 linhas e 11 colunas."
      ],
      "metadata": {
        "id": "UjrC3_tFFJHJ"
      }
    },
    {
      "cell_type": "code",
      "source": [
        "dados1.head()"
      ],
      "metadata": {
        "id": "Zr2Qw89hFKL0"
      },
      "execution_count": null,
      "outputs": []
    },
    {
      "cell_type": "markdown",
      "source": [
        "**Faça um dicionário das colunas contendo o nome da coluna, o tipo do dado e seu significado**\n"
      ],
      "metadata": {
        "id": "Uhw6GRitFNjI"
      }
    },
    {
      "cell_type": "code",
      "source": [
        "dados1.columns"
      ],
      "metadata": {
        "id": "8lN74H5IFOEJ"
      },
      "execution_count": null,
      "outputs": []
    },
    {
      "cell_type": "markdown",
      "source": [
        "**Dicionário das colunas do dataset1:**\n",
        "* **ID:** Número de identificação do jogo\n",
        "* **Name:** Nome do jogo\n",
        "* **Platform:** Plataforma em que o jogo foi lançado\n",
        "* **Year_of_Release:** Ano de lançamento do jogo\n",
        "* **Genre:** Gênero/categoria do jogo\n",
        "* **Publisher:** Empresa responsável pela publicação/distribuição do jogo\n",
        "* **NA_Sales:** Vendas na América do Norte\n",
        "* **EU_Sales:** Vendas na Europa\n",
        "* **JP_Sales:** Vendas no Japão\n",
        "* **Other_Sales:** Vendas em outros lugares do mundo\n",
        "* **Global_Sales:** Total de vendas global"
      ],
      "metadata": {
        "id": "-j_BpKIeFRoE"
      }
    },
    {
      "cell_type": "markdown",
      "source": [
        "**Classificação das variáveis:**\n",
        "* **ID:** qualitativa ordinal\n",
        "* **Name:** qualitativa nominal\n",
        "* **Platform:** qualitativa nominal\n",
        "* **Year_of_Release:** qualitativa ordinal\n",
        "* **Genre:** qualitativa nominal\n",
        "* **Publisher:** qualitativa nominal\n",
        "* **NA_Sales:** quantitativa discreta\n",
        "* **EU_Sales:** quantitativa discreta\n",
        "* **JP_Sales:** quantitativa discreta\n",
        "* **Other_Sales:** quantitativa discreta\n",
        "* **Global_Sales:** quantitativa discreta"
      ],
      "metadata": {
        "id": "Io9kLPtYFSLb"
      }
    },
    {
      "cell_type": "markdown",
      "source": [
        "**Descreva se o Dataset está em formato Tidy e explique o motivo. Caso não esteja, crie uma versão Tidy para a exploração.**\n",
        "\n",
        "O Dataset1 não está no formato Tidy.\n",
        "Uma forma de apresentar o dataset1 em formato Tidy seria apresentar 4 ids para cada jogo por região com a quantidade de vendas, ao invés de apresentar 1 id com as vendas separadas em colunas."
      ],
      "metadata": {
        "id": "cEweQZC3AARo"
      }
    },
    {
      "cell_type": "markdown",
      "source": [
        "#Validação de dados e entendimento das variáveis\n",
        "\n",
        "**Quantos registros faltantes (dados nulos) por coluna?**"
      ],
      "metadata": {
        "id": "b1LzoZbSFYjm"
      }
    },
    {
      "cell_type": "code",
      "source": [
        "dados1.isnull().sum()"
      ],
      "metadata": {
        "id": "bwYASrw9FekO"
      },
      "execution_count": null,
      "outputs": []
    },
    {
      "cell_type": "markdown",
      "source": [
        "**Avalie a unicidade dos dados. Há duplicatas de linhas?**\n",
        "\n",
        "A unicidade dos dados está na coluna \"Id\"."
      ],
      "metadata": {
        "id": "76_7cSbaFjg1"
      }
    },
    {
      "cell_type": "code",
      "source": [
        "dados1.duplicated()"
      ],
      "metadata": {
        "id": "fBn3YyaRFkDL"
      },
      "execution_count": null,
      "outputs": []
    },
    {
      "cell_type": "markdown",
      "source": [
        "**Há algum problema com os tipos das variáveis?**\n",
        "\n",
        "As variáveis de \"sales\" deveriam ser do tipo numeral, e não do tipo object."
      ],
      "metadata": {
        "id": "i9tCsFEnFnBo"
      }
    },
    {
      "cell_type": "code",
      "source": [
        "dados1.dtypes"
      ],
      "metadata": {
        "id": "w7opw9ssFpM-"
      },
      "execution_count": null,
      "outputs": []
    },
    {
      "cell_type": "markdown",
      "source": [
        "**Descreva o conteúdo de cada coluna, se atentando ao tipo de variável:**\n",
        "1. Qualitativas: quantas categorias distintas? Qual a distribuição por categoria?\n",
        "Temos duas categorias distintas: nominal (Name, Platform, Genre e Publisher) e ordinal (ID e Year_of_Release).\n",
        "\n",
        "2. Quantitativas: valores mínimo e máximo. Média e desvio padrão. Mediana, P25 e P75."
      ],
      "metadata": {
        "id": "r0MAL4CaFuKW"
      }
    },
    {
      "cell_type": "code",
      "source": [
        "dados1.describe()"
      ],
      "metadata": {
        "id": "q0W8cM-aFvN-"
      },
      "execution_count": null,
      "outputs": []
    },
    {
      "cell_type": "code",
      "source": [
        "dados1.median()"
      ],
      "metadata": {
        "id": "cP-wrsNSFzks"
      },
      "execution_count": null,
      "outputs": []
    },
    {
      "cell_type": "markdown",
      "source": [
        "# Gráficos para visualização dos dados\n",
        "\n",
        "Obs: Gráficos gerados antes da limpeza dos dados"
      ],
      "metadata": {
        "id": "H7DlkXPfF3Nv"
      }
    },
    {
      "cell_type": "markdown",
      "source": [
        "**Gráfico 01 - Distribuição da quantidade de jogos por plataforma**\n"
      ],
      "metadata": {
        "id": "5I7XuxRz2Fpg"
      }
    },
    {
      "cell_type": "code",
      "source": [
        "dados1['Platform'].value_counts().plot(kind='bar', figsize=(15,5), color='red')"
      ],
      "metadata": {
        "id": "SaFGPJ-6F6-X"
      },
      "execution_count": null,
      "outputs": []
    },
    {
      "cell_type": "markdown",
      "source": [
        "\n",
        "\n",
        "---\n",
        "\n"
      ],
      "metadata": {
        "id": "uNJ69NIK2Kuj"
      }
    },
    {
      "cell_type": "markdown",
      "source": [
        "**Gráfico 02 - Distribuição dos jogos por gênero**\n",
        "\n",
        "Podemos observar que o gênero mais procurado é o de tiro e o menos procurado o de aventura."
      ],
      "metadata": {
        "id": "k6X42MNl2IdB"
      }
    },
    {
      "cell_type": "code",
      "source": [
        "dados1['Genre'].value_counts().plot(kind='bar', figsize=(15,5), color='red')"
      ],
      "metadata": {
        "id": "r4xukenJGMbB"
      },
      "execution_count": null,
      "outputs": []
    },
    {
      "cell_type": "markdown",
      "source": [
        "\n",
        "\n",
        "---\n",
        "\n"
      ],
      "metadata": {
        "id": "lXypR2XL2OKA"
      }
    },
    {
      "cell_type": "markdown",
      "source": [
        "**Gráfico 03 - Jogos lançados ao longo dos anos**\n",
        "\n",
        "O ano com mais lançamento de jogos é 2009, seguido pelo ano de 2005."
      ],
      "metadata": {
        "id": "UE9qZ6Sj2Rbx"
      }
    },
    {
      "cell_type": "code",
      "source": [
        "dados1['Year_of_Release'].value_counts().plot(figsize=(15,5), marker='o', color='magenta')"
      ],
      "metadata": {
        "id": "ca89vvvbGRUk"
      },
      "execution_count": null,
      "outputs": []
    },
    {
      "cell_type": "markdown",
      "source": [
        "\n",
        "\n",
        "---\n",
        "\n"
      ],
      "metadata": {
        "id": "YIHIXhJVGWC4"
      }
    },
    {
      "cell_type": "markdown",
      "source": [
        "**Gráfico 04 - Jogos por distribuidora**\n",
        "\n",
        "A distribuidora que mais tem jogos é a Nintendo, mas ao analisar os dados vemos que tem quatro escritas diferentes para a mesma empresa (Nintendo, Ñintendo, nintendo, NINTENDO). Na etapa de limpeza de dados precisamos padronizar a escrita para que a contagem de dados fique correta.\n",
        "O gráfico mostra que a diferença da Nintendo para as outras distribuidoras é bem expressivo."
      ],
      "metadata": {
        "id": "Eag3uDaz2VM_"
      }
    },
    {
      "cell_type": "code",
      "source": [
        "dados1['Publisher'].value_counts().plot(figsize=(15,5), kind='bar', color='red')"
      ],
      "metadata": {
        "id": "Y1QgQ34_GWcv"
      },
      "execution_count": null,
      "outputs": []
    },
    {
      "cell_type": "markdown",
      "source": [
        "#Distribuição dos dados"
      ],
      "metadata": {
        "id": "OVgB7wDvGcCR"
      }
    },
    {
      "cell_type": "markdown",
      "source": [
        "**Como está a distribuição dos dados? Existem valores discrepantes? Descreva o que pode significar.**\n",
        "\n",
        "---\n",
        "\n",
        "**Quais conclusões você pode tirar até aqui? Você está lidando com dados de qualidade? Existe alguma relação com a coleta? Há dados pessoais expostos?**\n",
        "\n",
        "Não há dados pessoais expostos."
      ],
      "metadata": {
        "id": "nbc1D7ZyGcdG"
      }
    },
    {
      "cell_type": "markdown",
      "source": [
        "#**Limpeza dos Dados**\n",
        "Caso aplicável, dê uma tratativa para os seguintes itens e explique o motivo da solução aplicada.\n",
        "\n",
        "1. Valores nulos.\n",
        "\n",
        "2. Registros duplicados.\n",
        "\n",
        "3. Validade dos tipos dos dados.\n",
        "\n",
        "4. Valores discrepantes.\n",
        "\n",
        "5. Dados inconsistentes.\n",
        "\n",
        "\n",
        "Antes de começar a fazer a limpeza de dados, vamos criar uma cópia do dataset1 para não perder nenhuma informação e trabalhar apenas com a cópia a partir de agora."
      ],
      "metadata": {
        "id": "3LSvyKyPGexj"
      }
    },
    {
      "cell_type": "code",
      "source": [
        "novodados1 = dados1.copy()"
      ],
      "metadata": {
        "id": "w6dp5fjGGhkz"
      },
      "execution_count": null,
      "outputs": []
    },
    {
      "cell_type": "code",
      "source": [
        "novodados1.info()"
      ],
      "metadata": {
        "id": "XZAhXffLGrkr"
      },
      "execution_count": null,
      "outputs": []
    },
    {
      "cell_type": "markdown",
      "source": [
        "**Verficar se há dados duplicados**"
      ],
      "metadata": {
        "id": "G7WJvqOB9Vmf"
      }
    },
    {
      "cell_type": "code",
      "source": [
        "novodados1.duplicated()"
      ],
      "metadata": {
        "id": "KumEDOjz9Mgo"
      },
      "execution_count": null,
      "outputs": []
    },
    {
      "cell_type": "markdown",
      "source": [
        "A unicidade está na coluna Id, então conseguimos verificar quais são as linhas que estão duplicadas."
      ],
      "metadata": {
        "id": "hQ3pKEU_fqFk"
      }
    },
    {
      "cell_type": "code",
      "source": [
        "novodados1.Id.value_counts()"
      ],
      "metadata": {
        "id": "APPYyZLB9ZvC"
      },
      "execution_count": null,
      "outputs": []
    },
    {
      "cell_type": "code",
      "source": [
        "novodados1[novodados1.Id.isin([78, 83, 61, 17, 86])]"
      ],
      "metadata": {
        "id": "covVeEekfvzm"
      },
      "execution_count": null,
      "outputs": []
    },
    {
      "cell_type": "markdown",
      "source": [
        "**Limpeza de valores nulos**\n",
        "\n",
        "Os campos que estiverem com valores nulos aparecerão com o valor NaN (Not a Number). Podemos utilizar uma função do pandas que irá retornar a soma de todas as linhas do dataset1 que tiverem valores nulos."
      ],
      "metadata": {
        "id": "SgQva0yBGxTW"
      }
    },
    {
      "cell_type": "code",
      "source": [
        "novodados1.isnull().sum()"
      ],
      "metadata": {
        "id": "Gyg_HgzEGyPO"
      },
      "execution_count": null,
      "outputs": []
    },
    {
      "cell_type": "markdown",
      "source": [
        "Dessa forma, sabemos que na coluna \"Vendas Global\" temos 29 valores nulos, na coluna \"Plataforma\" temos 9, na coluna \"Vendas Japão\" temos 5 e nas demais colunas (exceto coluna ID) temos 1 valor nulo cada.\n",
        "\n",
        "Agora precisamos avaliar o que fazer para resolver isso. No caso da coluna \"Vendas Global\", sabemos que ela é o somatório das demais vendas, portanto podemos aplicar uma fórmula que faça o somatório do valor das outras colunas e apresente o resultado.\n",
        "\n",
        "Podemos considerar, no caso dos valores nulos da coluna \"Vendas Japão\", que o resultado será o valor de \"Vendas Global\" subtraído dos outros valores (\"Vendas América do Norte\", \"Vendas Europa\" e \"Outras Vendas\"). Seguimos a mesma lógica para as demais colunas de vendas (\"Vendas América do Norte\", \"Vendas Europa\" e \"Outras Vendas\") que possuem um valor nulo cada."
      ],
      "metadata": {
        "id": "kidXHGCtG2-_"
      }
    },
    {
      "cell_type": "markdown",
      "source": [
        "#Corrigindo os dados da coluna \"Publisher\""
      ],
      "metadata": {
        "id": "rTlRNO7FG4TH"
      }
    },
    {
      "cell_type": "code",
      "source": [
        "novodados1.Publisher.value_counts()"
      ],
      "metadata": {
        "id": "4g5QN8OHG-u9"
      },
      "execution_count": null,
      "outputs": []
    },
    {
      "cell_type": "markdown",
      "source": [
        "Podemos observar que existe 4 escritas diferentes para uma mesma distribuidora: Nintendo, NINTENDO, nintendo e Ñintendo.\n",
        "Vamos padronizar para \"Nintendo\".\n",
        "Nesta coluna este é o único problema que conseguimos verificar no momento."
      ],
      "metadata": {
        "id": "J0A_z7B4HITe"
      }
    },
    {
      "cell_type": "code",
      "source": [
        "cond = novodados1['Publisher'].isin(['nintendo', 'NINTENDO', 'Ñintendo'])\n",
        "novodados1.loc[cond, 'Publisher'] = 'Nintendo'"
      ],
      "metadata": {
        "id": "oEyNQ-j6HKDk"
      },
      "execution_count": null,
      "outputs": []
    },
    {
      "cell_type": "code",
      "source": [
        "novodados1.Publisher.value_counts()"
      ],
      "metadata": {
        "id": "F3hocyd0Hixt"
      },
      "execution_count": null,
      "outputs": []
    },
    {
      "cell_type": "markdown",
      "source": [
        "Agora vamos analisar qual a linha que tem valor nulo na coluna Publisher e como podemos corrigir isso."
      ],
      "metadata": {
        "id": "ON9cIbHuW1GO"
      }
    },
    {
      "cell_type": "code",
      "source": [
        "novodados1[novodados1.Publisher.isnull()].head()"
      ],
      "metadata": {
        "id": "zsm81HwAW0C4"
      },
      "execution_count": null,
      "outputs": []
    },
    {
      "cell_type": "markdown",
      "source": [
        "Podemos observar que todos os dados da linhas 87 possuem valor nulo, portanto podemos excluir a linha toda do nosso dataset sem perda de informação."
      ],
      "metadata": {
        "id": "HtIGSiEqXEC8"
      }
    },
    {
      "cell_type": "markdown",
      "source": [
        "#Corrigindo os dados da coluna \"Year_of_Release\"\n"
      ],
      "metadata": {
        "id": "bsBogl7gHy1u"
      }
    },
    {
      "cell_type": "code",
      "source": [
        "novodados1[['Year_of_Release']].describe()"
      ],
      "metadata": {
        "id": "XYSc3644HzWA"
      },
      "execution_count": null,
      "outputs": []
    },
    {
      "cell_type": "code",
      "source": [
        "novodados1['Year_of_Release'].str.len().sort_values(ascending=False)"
      ],
      "metadata": {
        "id": "0l7WGy2rIEwg"
      },
      "execution_count": null,
      "outputs": []
    },
    {
      "cell_type": "markdown",
      "source": [
        "Podemos observar que três valores possuem comprimento maior que 4 (linhas 24, 33 e 49) e, portanto, devem ser corrigidos, pois o ano deve ser representado por quatro dígitos."
      ],
      "metadata": {
        "id": "Q-9nOwdLINdy"
      }
    },
    {
      "cell_type": "code",
      "source": [
        "novodados1.loc[[24, 33, 49]]"
      ],
      "metadata": {
        "id": "7tDrZx0wIOjc"
      },
      "execution_count": null,
      "outputs": []
    },
    {
      "cell_type": "markdown",
      "source": [
        "Analisando os valores apresentados, vamos assumir que houve erro de digitação nas linhas 33 e 49 e que os valores deveriam ser 2010 e 2004, respectivamente.\n",
        "\n",
        "No caso da linha 24 o valor está representado no formato MM/DD/AAAA, então vamos deixar apenas o ano, 2013."
      ],
      "metadata": {
        "id": "Err4kGtXIUfl"
      }
    },
    {
      "cell_type": "code",
      "source": [
        "novodados1.loc[24, 'Year_of_Release'] = '2013'\n",
        "novodados1.loc[33, 'Year_of_Release'] = '2010'\n",
        "novodados1.loc[49, 'Year_of_Release'] = '2004'"
      ],
      "metadata": {
        "id": "IFIrc7CBIVUI"
      },
      "execution_count": null,
      "outputs": []
    },
    {
      "cell_type": "code",
      "source": [
        "novodados1.loc[[24, 33, 49]]"
      ],
      "metadata": {
        "id": "xj9HPMJEIzzY"
      },
      "execution_count": null,
      "outputs": []
    },
    {
      "cell_type": "code",
      "source": [
        "novodados1[['Year_of_Release']] = novodados1[['Year_of_Release']].apply(pd.to_numeric)\n",
        "novodados1[['Year_of_Release']].describe()"
      ],
      "metadata": {
        "id": "OJFMeTO0I7H1"
      },
      "execution_count": null,
      "outputs": []
    },
    {
      "cell_type": "markdown",
      "source": [
        "Podemos observar que a maioria dos jogos (50%) foram lançados em 2008.\n",
        "\n",
        "Também vemos que, convertendo os valores para numeral, o máximo é 3007 e o mínimo é 1804. Sabemos que os dataset1 possuem dados de um intervalo de 40 anos, portanto os valores máximo e mínimo não fazem sentindo.\n",
        "\n",
        "Vamos verificar os 5 primeiros (nlargest) e os 5 últimos (nsmallest) valores da coluna ano e analisar o que pode estar errado."
      ],
      "metadata": {
        "id": "rmDUtkrWJD3y"
      }
    },
    {
      "cell_type": "code",
      "source": [
        "novodados1.nlargest(5, 'Year_of_Release')"
      ],
      "metadata": {
        "id": "Kjd_kCygJEn3"
      },
      "execution_count": null,
      "outputs": []
    },
    {
      "cell_type": "code",
      "source": [
        "novodados1.nsmallest(5, 'Year_of_Release')"
      ],
      "metadata": {
        "id": "2t6cZdLdJVD3"
      },
      "execution_count": null,
      "outputs": []
    },
    {
      "cell_type": "markdown",
      "source": [
        "Entre os máximos, podemos observar que apenas a linha 72 possui um valor discrepante (3007). Já para os mínimos, temos as linhas 82 e 99 com valores errados (1804 e 1948, respectivamente).\n",
        "Vamos assumir novos valores para estas linhas: 2007, 2004 e 1998.\n",
        "\n",
        "*Obs: em uma pesquisa no Google, conseguimos confirmar que estes novos valores estão corretos.*\n",
        "* Call of Duty 4 - 2007\n",
        "* The Legend of Zelda: Ocarina of Time - 1998\n",
        "* Halo 2 - 2004\n",
        "\n"
      ],
      "metadata": {
        "id": "ia3NU42AJazh"
      }
    },
    {
      "cell_type": "code",
      "source": [
        "novodados1.loc[72, 'Year_of_Release'] = '2007'\n",
        "novodados1.loc[82, 'Year_of_Release'] = '2004'\n",
        "novodados1.loc[99, 'Year_of_Release'] = '1998'"
      ],
      "metadata": {
        "id": "oH1VJ4OSJbgG"
      },
      "execution_count": null,
      "outputs": []
    },
    {
      "cell_type": "code",
      "source": [
        "novodados1.loc[[72, 82, 99]]"
      ],
      "metadata": {
        "id": "CkrjxM9EJyny"
      },
      "execution_count": null,
      "outputs": []
    },
    {
      "cell_type": "markdown",
      "source": [
        "#Corrigindo os dados das colunas de \"Vendas\"\n",
        "\n",
        "As colunas de vendas estão como \"object\", mas deveriam ser do tipo numérico (float64)."
      ],
      "metadata": {
        "id": "eFz4J03jKI-W"
      }
    },
    {
      "cell_type": "code",
      "source": [
        "novodados1[['NA_Sales', 'EU_Sales', 'JP_Sales', 'Other_Sales', 'Global_Sales']] = novodados1[['NA_Sales', 'EU_Sales', 'JP_Sales', 'Other_Sales', 'Global_Sales']].apply(lambda x: x.str.replace(',','.')).apply(pd.to_numeric)\n",
        "novodados1.describe()"
      ],
      "metadata": {
        "id": "nG-GM8iTKrWW"
      },
      "execution_count": null,
      "outputs": []
    },
    {
      "cell_type": "markdown",
      "source": [
        "Analisando os dados anteriores podemos observar que existem jogos que vendem muito mais que outros, comparando os valores de max e min.\n",
        "\n",
        "Também verificamos que as vendas na América do Norte (NA_Sales) são muito maiores que nas demais regiões (ver valores de 50%)."
      ],
      "metadata": {
        "id": "qN4K1tNla3pe"
      }
    },
    {
      "cell_type": "code",
      "source": [
        "novodados1.info()"
      ],
      "metadata": {
        "id": "OaK8DK83LGkv"
      },
      "execution_count": null,
      "outputs": []
    },
    {
      "cell_type": "code",
      "source": [
        "novodados1.isnull().sum()\n"
      ],
      "metadata": {
        "id": "RF07b5M-PjUZ"
      },
      "execution_count": null,
      "outputs": []
    },
    {
      "cell_type": "markdown",
      "source": [
        "**Dados nulos**\n",
        "* NA_Sales: 1\n",
        "* EU_Sales: 1\n",
        "* JP_Sales: 5\n",
        "* Other_Sales: 1\n",
        "* Global_Sales: 29\n",
        "\n",
        "Sabemos que Global_Sales é igual ao somatório das demais vendas."
      ],
      "metadata": {
        "id": "r-jngeMSQDHs"
      }
    },
    {
      "cell_type": "markdown",
      "source": [
        "#Corrigindo os dados da coluna \"Platform\"\n",
        "\n",
        "Agora vamos verificar se existe alguma inconsistência nos valores da coluna \"Platform\"."
      ],
      "metadata": {
        "id": "F6UrG_YINqVJ"
      }
    },
    {
      "cell_type": "code",
      "source": [
        "novodados1.Platform.value_counts()"
      ],
      "metadata": {
        "id": "YJYRL7M2NvK6"
      },
      "execution_count": null,
      "outputs": []
    },
    {
      "cell_type": "markdown",
      "source": [
        "Houve um erro na coleta dos dados e onde temos X3600000 deveria ser X360, portanto vamos corrigir esse dado.\n",
        "\n",
        "Os demais valores parecem estar corretos."
      ],
      "metadata": {
        "id": "SYzP8s7NOB2m"
      }
    },
    {
      "cell_type": "code",
      "source": [
        "cond = novodados1['Platform'].isin(['X3600000'])\n",
        "novodados1.loc[cond, 'Platform'] = 'X360'"
      ],
      "metadata": {
        "id": "D9R174JVOQNj"
      },
      "execution_count": null,
      "outputs": []
    },
    {
      "cell_type": "code",
      "source": [
        "novodados1.Platform.value_counts()"
      ],
      "metadata": {
        "id": "-57tG-PnOehD"
      },
      "execution_count": null,
      "outputs": []
    },
    {
      "cell_type": "markdown",
      "source": [
        "Agora vamos analisar as linhas que possuem valor nulo na coluna \"Platform\""
      ],
      "metadata": {
        "id": "JeEbo40ZeuzE"
      }
    },
    {
      "cell_type": "code",
      "source": [
        "novodados1.Platform.isnull().sum()"
      ],
      "metadata": {
        "id": "3RslzPQ-eR3P"
      },
      "execution_count": null,
      "outputs": []
    },
    {
      "cell_type": "code",
      "source": [
        "novodados1[novodados1.Platform.isnull()].head(10)"
      ],
      "metadata": {
        "id": "uf0bw2ByebhO"
      },
      "execution_count": null,
      "outputs": []
    },
    {
      "cell_type": "markdown",
      "source": [
        "Temos 9 linhas com valores nulos e podemos observar que 8 se referem a jogos lançados na plataforma Wii, portanto podemos incluir essa informação nestas linhas."
      ],
      "metadata": {
        "id": "9YvvikEGe3vF"
      }
    },
    {
      "cell_type": "code",
      "source": [
        "novodados1.loc[0, 'Platform'] = 'Wii'\n",
        "novodados1.loc[2, 'Platform'] = 'Wii'\n",
        "novodados1.loc[3, 'Platform'] = 'Wii'\n",
        "novodados1.loc[7, 'Platform'] = 'Wii'\n",
        "novodados1.loc[8, 'Platform'] = 'Wii'\n",
        "novodados1.loc[13, 'Platform'] = 'Wii'\n",
        "novodados1.loc[15, 'Platform'] = 'Wii'\n",
        "novodados1.loc[83, 'Platform'] = 'Wii'"
      ],
      "metadata": {
        "id": "_fq0AWxqwQtI"
      },
      "execution_count": null,
      "outputs": []
    },
    {
      "cell_type": "code",
      "source": [
        "novodados1.loc[[0, 2, 3, 7, 8, 13, 15, 83]]"
      ],
      "metadata": {
        "id": "GbPR_MCzwt-b"
      },
      "execution_count": null,
      "outputs": []
    },
    {
      "cell_type": "markdown",
      "source": [
        "#Corrigindo os dados da coluna \"Name\""
      ],
      "metadata": {
        "id": "O-6YHgTy80Dx"
      }
    },
    {
      "cell_type": "code",
      "source": [
        "novodados1.Name.value_counts().head(10)"
      ],
      "metadata": {
        "id": "FGMnmomHxA7v"
      },
      "execution_count": null,
      "outputs": []
    },
    {
      "cell_type": "code",
      "source": [
        "novodados1.Platform.isnull().sum()"
      ],
      "metadata": {
        "id": "vSVE6AypxH8E"
      },
      "execution_count": null,
      "outputs": []
    },
    {
      "cell_type": "code",
      "source": [
        "novodados1[novodados1.Name.isnull()].head()"
      ],
      "metadata": {
        "id": "ZJJOHqQLxOsH"
      },
      "execution_count": null,
      "outputs": []
    },
    {
      "cell_type": "code",
      "source": [
        "novodados1[novodados1.Name == 'Grand Theft Auto V']"
      ],
      "metadata": {
        "id": "dncjOJ-uMpel"
      },
      "execution_count": null,
      "outputs": []
    },
    {
      "cell_type": "code",
      "source": [
        "novodados1[novodados1.Name == 'Grand Theft Auto IV']"
      ],
      "metadata": {
        "id": "ooWVHkSvM6BT"
      },
      "execution_count": null,
      "outputs": []
    },
    {
      "cell_type": "code",
      "source": [
        "novodados1[novodados1.Name == 'Call of Duty: Ghosts']"
      ],
      "metadata": {
        "id": "Ek20HpmRM_jH"
      },
      "execution_count": null,
      "outputs": []
    },
    {
      "cell_type": "code",
      "source": [
        "novodados1[novodados1.Name == 'Call of Duty: Modern Warfare 3']"
      ],
      "metadata": {
        "id": "NIhEVAMFNGa9"
      },
      "execution_count": null,
      "outputs": []
    },
    {
      "cell_type": "code",
      "source": [
        "novodados1[novodados1.Name == 'Call of Duty: Black Ops 3']"
      ],
      "metadata": {
        "id": "XKHYC18ONRbZ"
      },
      "execution_count": null,
      "outputs": []
    },
    {
      "cell_type": "code",
      "source": [
        "novodados1[novodados1.Name == 'Call of Duty: Black Ops']"
      ],
      "metadata": {
        "id": "lTf5PiONNTui"
      },
      "execution_count": null,
      "outputs": []
    },
    {
      "cell_type": "code",
      "source": [
        "novodados1[novodados1.Name == 'Super Mario 64']"
      ],
      "metadata": {
        "id": "LkKpAhhfNaAH"
      },
      "execution_count": null,
      "outputs": []
    },
    {
      "cell_type": "code",
      "source": [
        "novodados1[novodados1.Name == 'Call of Duty: Black Ops II']"
      ],
      "metadata": {
        "id": "Bcy_gb3ENfBu"
      },
      "execution_count": null,
      "outputs": []
    },
    {
      "cell_type": "code",
      "source": [
        "novodados1[novodados1.Name == 'Call of Duty: Modern Warfare 2']"
      ],
      "metadata": {
        "id": "JSYPQ1PcNsQF"
      },
      "execution_count": null,
      "outputs": []
    },
    {
      "cell_type": "markdown",
      "source": [
        "Podemos observar que 9 jogos foram lançados em duas plataformas ou mais (Xbob e PS).\n",
        "Apenas o \"Super Mario 64\" foi lançado em duas plataformas da Nintendo.\n",
        "Como são plataformas diferentes, não são considerados dados duplicados, portanto não precisamos tratá-los."
      ],
      "metadata": {
        "id": "5aIPhdv6NsI1"
      }
    },
    {
      "cell_type": "code",
      "source": [
        "top_10_vendidos = novodados1[['Name', 'Global_Sales']].head(10).set_index('Name').sort_values('Global_Sales', ascending=False)\n",
        "top_10_vendidos"
      ],
      "metadata": {
        "id": "wacYq73Kli6h"
      },
      "execution_count": null,
      "outputs": []
    },
    {
      "cell_type": "markdown",
      "source": [
        "Essa é a lista dos 10 jogos mais vendidos, considerando o Total de Vendas Global."
      ],
      "metadata": {
        "id": "7UElhqJoloUF"
      }
    },
    {
      "cell_type": "markdown",
      "source": [
        "#Corrigindo os dados da coluna \"Genre\""
      ],
      "metadata": {
        "id": "b7A3Fkrkjzm8"
      }
    },
    {
      "cell_type": "code",
      "source": [
        "novodados1['Genre'].value_counts()"
      ],
      "metadata": {
        "id": "ixTMd_qHjwVt"
      },
      "execution_count": null,
      "outputs": []
    },
    {
      "cell_type": "code",
      "source": [
        "novodados1[novodados1.Genre == 'Adventure']"
      ],
      "metadata": {
        "id": "L2393iRRkbK7"
      },
      "execution_count": null,
      "outputs": []
    },
    {
      "cell_type": "markdown",
      "source": [
        "Analisando as informações sobre o gênero/categoria dos jogos, eles são classificados em 11 categorias.\n",
        "\n",
        "Podemos verificar que a maioria dos jogos lançados são de tiro (shooter), seguido por jogos de plataforma. O gênero menos lançado é de aventura, tendo apenas um jogo (Super Mario Land 2: 6 Golden Coins)."
      ],
      "metadata": {
        "id": "3XD9Lq_Bj9PR"
      }
    },
    {
      "cell_type": "markdown",
      "source": [
        "#Novos Gráficos para visualização dos dados"
      ],
      "metadata": {
        "id": "iuPyD0DdPV9b"
      }
    },
    {
      "cell_type": "markdown",
      "source": [
        "**Gráfico 5 - Lançamento de jogos por gênero**"
      ],
      "metadata": {
        "id": "Yov5xSHjmv2a"
      }
    },
    {
      "cell_type": "code",
      "source": [
        "plt.figure(figsize=(15, 10))\n",
        "sns.countplot(x=\"Genre\", data=novodados1, order = novodados1['Genre'].value_counts().index)\n",
        "plt.xticks(rotation=90)"
      ],
      "metadata": {
        "id": "LMGLJ7talV5Y"
      },
      "execution_count": null,
      "outputs": []
    },
    {
      "cell_type": "markdown",
      "source": [
        "\n",
        "\n",
        "---\n",
        "\n"
      ],
      "metadata": {
        "id": "mShXJA2a25E4"
      }
    },
    {
      "cell_type": "markdown",
      "source": [
        "**Gráfico 6 - Total de jogos lançados por ano**"
      ],
      "metadata": {
        "id": "BA3FqxN1m166"
      }
    },
    {
      "cell_type": "code",
      "source": [
        "plt.figure(figsize=(15, 10))\n",
        "sns.countplot(x=\"Year_of_Release\", data=novodados1, order = novodados1.groupby(by=['Year_of_Release'])['Name'].count().sort_values(ascending=False).index)\n",
        "plt.xticks(rotation=90)\n",
        "plt.title('Total de jogos lançados ao ano')"
      ],
      "metadata": {
        "id": "Zl0HtqKQl2O1"
      },
      "execution_count": null,
      "outputs": []
    },
    {
      "cell_type": "markdown",
      "source": [
        "\n",
        "\n",
        "---\n",
        "\n"
      ],
      "metadata": {
        "id": "XzHAGCPD26tZ"
      }
    },
    {
      "cell_type": "markdown",
      "source": [
        "**Gráfico 7 - Os 5 anos com mais lançamento de jogos por gênero**"
      ],
      "metadata": {
        "id": "vJmdUtISm79X"
      }
    },
    {
      "cell_type": "code",
      "source": [
        "plt.figure(figsize=(15, 10))\n",
        "sns.countplot(x=\"Year_of_Release\", data=novodados1, hue='Genre', order=novodados1.Year_of_Release.value_counts().iloc[:5].index)\n",
        "plt.xticks(size=13, rotation=90)"
      ],
      "metadata": {
        "id": "cARBMLzlmnqR"
      },
      "execution_count": null,
      "outputs": []
    },
    {
      "cell_type": "markdown",
      "source": [
        "#**Tidy Data**"
      ],
      "metadata": {
        "id": "KYesq-Tshf6p"
      }
    },
    {
      "cell_type": "code",
      "source": [
        "tidy_dataset = novodados1.drop('Global_Sales', axis=1)\n",
        "tidy_dataset = tidy_dataset.rename({'NA_Sales': 'North_America', 'EU_Sales': 'Europe', 'JP_Sales': 'Japan', 'Other_Sales': 'Other'}, axis=1)\n",
        "tidy_dataset = pd.melt(tidy_dataset, id_vars=['Id', 'Name', 'Platform', 'Year_of_Release', 'Genre', 'Publisher'], var_name='Region', value_name='Sold_Millions_Units')"
      ],
      "metadata": {
        "id": "fiAcOk2uhoBQ"
      },
      "execution_count": null,
      "outputs": []
    },
    {
      "cell_type": "code",
      "source": [
        "tidy_dataset[tidy_dataset.Name == 'Wii Sports']"
      ],
      "metadata": {
        "id": "zpBCbZAYj5a8"
      },
      "execution_count": null,
      "outputs": []
    },
    {
      "cell_type": "code",
      "source": [
        "tidy_dataset[tidy_dataset.Name == 'Wii Sports'].Sold_Millions_Units.sum()"
      ],
      "metadata": {
        "id": "Byprg3B7kQsc"
      },
      "execution_count": null,
      "outputs": []
    },
    {
      "cell_type": "code",
      "source": [
        "novodados1[novodados1.Name == 'Wii Sports']"
      ],
      "metadata": {
        "id": "UikoqRqXkjaY"
      },
      "execution_count": null,
      "outputs": []
    },
    {
      "cell_type": "markdown",
      "source": [
        "# **Corrigindo a rota**"
      ],
      "metadata": {
        "id": "mK2v3xaAKYvd"
      }
    },
    {
      "cell_type": "markdown",
      "source": [
        "**Compare o dataset1 e dataset2. Quais são as maiores diferenças? O que você acha que pode ter acontecido?**\n",
        "\n",
        "O dataset2 (16719, 11) possui mais dados que o dataset1 (106, 11).\n",
        "Além disso, os atributos do dataset2 já estão corrigidos para as colunas de Sales, mas o atributo do \"Year_of_Release\" está errdo (aparece como número, mas deveria ser data).\n",
        "\n",
        "\n",
        "---\n",
        "\n",
        "\n",
        "\n",
        "**Já o dataset3 é uma extensão do dataset2, combine-os e revise suas respostas dos passos anteriores (01, 02 e 03). De agora em diante, você usará apenas essa combinação de datasets (dataset2 e dataset3) e não mais o dataset1.**\n",
        "\n",
        "O dataset3 (16719, 11) inclui novas categorias como \"Critic_Score\", \"Critic_Count\", \"User_Score\", \"User_Count\", \"Developer\" e \"Rating\"."
      ],
      "metadata": {
        "id": "uBTYyHUh6PlS"
      }
    },
    {
      "cell_type": "markdown",
      "source": [
        "# Obtendo informações sobre os Dataset2 e Dataset3"
      ],
      "metadata": {
        "id": "uOS7CBf14nTo"
      }
    },
    {
      "cell_type": "code",
      "source": [
        "dados2.shape"
      ],
      "metadata": {
        "id": "sWUFWlLu3nD_"
      },
      "execution_count": null,
      "outputs": []
    },
    {
      "cell_type": "code",
      "source": [
        "dados3.shape"
      ],
      "metadata": {
        "id": "dDxMwrXM3pQ2"
      },
      "execution_count": null,
      "outputs": []
    },
    {
      "cell_type": "markdown",
      "source": [
        "**Quantas linhas e quantas colunas esse dataset possui?**\n",
        "* **Dataset2:** 16719 linhas e 11 colunas.\n",
        "* **Dataset3:** 16719 linhas e 12 colunas."
      ],
      "metadata": {
        "id": "0miBdTp26jk_"
      }
    },
    {
      "cell_type": "code",
      "source": [
        "dados2.columns"
      ],
      "metadata": {
        "id": "5v18jWMY7J3m"
      },
      "execution_count": null,
      "outputs": []
    },
    {
      "cell_type": "code",
      "source": [
        "dados3.columns"
      ],
      "metadata": {
        "id": "APzc5HxK7NaF"
      },
      "execution_count": null,
      "outputs": []
    },
    {
      "cell_type": "markdown",
      "source": [
        "**Faça um dicionário das colunas contendo o nome da coluna, o tipo do dado e seu significado**\n"
      ],
      "metadata": {
        "id": "kPKCnutz7PZw"
      }
    },
    {
      "cell_type": "markdown",
      "source": [
        "**Dicionário das colunas do dataset1:**\n",
        "\n",
        "**Dataset2**\n",
        "* **ID:** Número de identificação do jogo\n",
        "* **Name:** Nome do jogo\n",
        "* **Platform:** Plataforma em que o jogo foi lançado\n",
        "* **Year_of_Release:** Ano de lançamento do jogo\n",
        "* **Genre:** Gênero/categoria do jogo\n",
        "* **Publisher:** Empresa responsável pela publicação/distribuição do jogo\n",
        "* **NA_Sales:** Vendas na América do Norte\n",
        "* **EU_Sales:** Vendas na Europa\n",
        "* **JP_Sales:** Vendas no Japão\n",
        "* **Other_Sales:** Vendas em outros lugares do mundo\n",
        "* **Global_Sales:** Total de vendas global\n",
        "\n",
        "\n",
        "---\n",
        "**Dataset3**\n",
        "* **ID:** Número de identificação do jogo\n",
        "* **Name:** Nome do jogo\n",
        "* **Platform:** Plataforma em que o jogo foi lançado\n",
        "* **Year_of_Release:** Ano de lançamento do jogo\n",
        "* **Genre:** Gênero/categoria do jogo\n",
        "* **Publisher:** Empresa responsável pela publicação/distribuição do jogo\n",
        "* **Critic_Score:** Pontuação do jogo dada pelo crítico\n",
        "* **Critic_Count:** Número de críticos que avaliaram o jogo\n",
        "* **User_Score:** Pontuação do jogo dada pelo usuário\n",
        "* **User_Count:** Número de usuários que avaliaram o jogo\n",
        "* **Developer:** Nome da empresa de desenvolvimento do jogo\n",
        "* **Rating:** Classificação etária dos jogos (ESRB)\n"
      ],
      "metadata": {
        "id": "MjB4rFSg7baX"
      }
    },
    {
      "cell_type": "markdown",
      "source": [
        "**Comparando as informações do dataset2 e dataset3**\n",
        "\n",
        "O Dataset2 mostra as informações sobre as vendas dos jogos. Já o Dataset3 apresenta informações sobre crítica e avaliação dos jogos."
      ],
      "metadata": {
        "id": "StfxGJsM4cCk"
      }
    },
    {
      "cell_type": "markdown",
      "source": [
        "#Validação de dados e entendimento das variáveis\n",
        "\n",
        "**Quantos registros faltantes (dados nulos) por coluna?**"
      ],
      "metadata": {
        "id": "EepzUg0i8zS0"
      }
    },
    {
      "cell_type": "code",
      "source": [
        "dados2.isnull().sum() "
      ],
      "metadata": {
        "id": "Uqg01BMHB35a"
      },
      "execution_count": null,
      "outputs": []
    },
    {
      "cell_type": "code",
      "source": [
        "dados3.isnull().sum()"
      ],
      "metadata": {
        "id": "1H_me0BJB9sG"
      },
      "execution_count": null,
      "outputs": []
    },
    {
      "cell_type": "code",
      "source": [
        "dados2.dtypes"
      ],
      "metadata": {
        "id": "sKTUcdFRCZgT"
      },
      "execution_count": null,
      "outputs": []
    },
    {
      "cell_type": "code",
      "source": [
        "dados3.dtypes"
      ],
      "metadata": {
        "id": "M1O8yMN9CbTI"
      },
      "execution_count": null,
      "outputs": []
    },
    {
      "cell_type": "markdown",
      "source": [
        "**Há algum problema com os tipos das variáveis?**\n",
        "\n",
        "Todas as variáveis do Dataset2 estão corretas. Já a variável \"User_Score\"está como object, mas deveria ser numeral (float64).\n"
      ],
      "metadata": {
        "id": "_q9zXmz3CRNF"
      }
    },
    {
      "cell_type": "markdown",
      "source": [
        "**Descreva o conteúdo de cada coluna, se atentando ao tipo de variável:**\n",
        "1. Qualitativas: quantas categorias distintas? Qual a distribuição por categoria?\n",
        "Temos duas categorias distintas: nominal (Name, Platform, Genre e Publisher) e ordinal (ID e Year_of_Release).\n",
        "\n",
        "2. Quantitativas: valores mínimo e máximo. Média e desvio padrão. Mediana, P25 e P75."
      ],
      "metadata": {
        "id": "GMcclY4aDUgo"
      }
    },
    {
      "cell_type": "code",
      "source": [
        "dados2.describe()"
      ],
      "metadata": {
        "id": "sOVSq4zLC0XA"
      },
      "execution_count": null,
      "outputs": []
    },
    {
      "cell_type": "code",
      "source": [
        "dados2.median()"
      ],
      "metadata": {
        "id": "JdIGMUrlDdOl"
      },
      "execution_count": null,
      "outputs": []
    },
    {
      "cell_type": "markdown",
      "source": [
        "# Combinação dos Dataset2 e Dataset3"
      ],
      "metadata": {
        "id": "vrQkLbrWD4Gz"
      }
    },
    {
      "cell_type": "markdown",
      "source": [
        "Vamos criar o dataset \"dadoscompletos\" com todos os dados dos Dataset2 e Dataset3, considerando as colunas que são iguais para os dois (Id, Name, Platform, Years_of_Release, Genre e Publisher)."
      ],
      "metadata": {
        "id": "69YLBW8bEbAw"
      }
    },
    {
      "cell_type": "code",
      "source": [
        "dadoscompletos = pd.merge(dados2, dados3, on=['Id', 'Name', 'Platform', 'Year_of_Release', 'Genre', 'Publisher'])"
      ],
      "metadata": {
        "id": "sVvx0wUzEJ_v"
      },
      "execution_count": null,
      "outputs": []
    },
    {
      "cell_type": "code",
      "source": [
        "dadoscompletos.info()"
      ],
      "metadata": {
        "id": "v9oKLm4oE5dt"
      },
      "execution_count": null,
      "outputs": []
    },
    {
      "cell_type": "code",
      "source": [
        "dadoscompletos.head()"
      ],
      "metadata": {
        "id": "hTnMqgsfE_a0"
      },
      "execution_count": null,
      "outputs": []
    },
    {
      "cell_type": "code",
      "source": [
        "dadoscompletos.shape"
      ],
      "metadata": {
        "id": "rbHO-lcmFD9z"
      },
      "execution_count": null,
      "outputs": []
    },
    {
      "cell_type": "markdown",
      "source": [
        "O dataset \"dadoscompletos\"possui 16719 linhas e 17 colunas."
      ],
      "metadata": {
        "id": "l78DrCcHFI3-"
      }
    },
    {
      "cell_type": "code",
      "source": [
        "dadoscompletos[['Year_of_Release']].describe()"
      ],
      "metadata": {
        "id": "aB3RZ9CdRId6"
      },
      "execution_count": null,
      "outputs": []
    },
    {
      "cell_type": "markdown",
      "source": [
        "Estão sendo considerados os jogos lançados entre 1980 e 2020."
      ],
      "metadata": {
        "id": "YAEW6B_sRWpm"
      }
    },
    {
      "cell_type": "markdown",
      "source": [
        "**Quantos registros faltantes (dados nulos) por coluna?**"
      ],
      "metadata": {
        "id": "h39Isjl_TZNR"
      }
    },
    {
      "cell_type": "code",
      "source": [
        "dadoscompletos.duplicated().sum()"
      ],
      "metadata": {
        "id": "hkybObgLUQcp"
      },
      "execution_count": null,
      "outputs": []
    },
    {
      "cell_type": "code",
      "source": [
        "dadoscompletos.isnull().sum()"
      ],
      "metadata": {
        "id": "pBeEe6HtTYk5"
      },
      "execution_count": null,
      "outputs": []
    },
    {
      "cell_type": "code",
      "source": [
        "dadoscompletos[dadoscompletos.Name.isnull()].head()"
      ],
      "metadata": {
        "id": "bHfd2V5jTpY0"
      },
      "execution_count": null,
      "outputs": []
    },
    {
      "cell_type": "code",
      "source": [
        "dadoscompletos[dadoscompletos.Genre.isnull()].head()"
      ],
      "metadata": {
        "id": "92x5LCqcUHBb"
      },
      "execution_count": null,
      "outputs": []
    },
    {
      "cell_type": "markdown",
      "source": [
        "#Classificação etária dos jogos (Rating)\n",
        "\n",
        "A classificação dos jogos é feita pela ESRB (Entertainment Software Rating Board), uma organização independente do governo que possui o sistema de classificação utilizado pelos jogos vendidos nos EUA, Canadá e América Latina. Na Europa a o sistema de classificação dos jogos (PEGI - Pan Europe Game Information) começou a ser usado em 2003 e segue a mesma descrição da ESRB."
      ],
      "metadata": {
        "id": "fFWPNtKu9tIU"
      }
    },
    {
      "cell_type": "code",
      "source": [
        "dadoscompletos.Rating.value_counts()"
      ],
      "metadata": {
        "id": "-aSm5rkU9T5P"
      },
      "execution_count": null,
      "outputs": []
    },
    {
      "cell_type": "markdown",
      "source": [
        "**Classificações da ESRB**\n",
        "* **EC - Early Childhood:** crianças a partir de 3 anos.\n",
        "* **E - Everyone:** contém conteúdo apropriado para maiores de 6 anos.\n",
        "* **E10+ - Everyone 10+:** conteúdo considerado impróprio para menores de 10 anos (*obs*: começou a ser utilizado apenas em 2005).\n",
        "* **T - Teen:** contém conteúdo considerado impróprio para menores de 13 anos (*obs*: classificação usada quando não existia o E10+).\n",
        "* **M - Mature:** contém conteúdo considerado impróprio para menores de 17 anos.\n",
        "* **AO - Adults Only:** contém conteúdo impróprio para menores de 18 anos (*obs*: Nintendo, Sony e Microsoft não permitem que jogos com essa classificação sejam lançados para suas plataformas).\n",
        "* **K-A - Kids to Adults:** contém conteúdo destinado a menores de 6 anos, podendo agradar pessoas com mais idade (*obs*: a partir de 1998 foi substituída pela E).\n",
        "* **RP - Rating Pending:** o jogo ainda não foi classificado pela ESRB.\n"
      ],
      "metadata": {
        "id": "w6aCWBCu--rT"
      }
    },
    {
      "cell_type": "code",
      "source": [
        "dadoscompletos[dadoscompletos.Rating == 'AO']"
      ],
      "metadata": {
        "id": "Z4aXdukIBrA2"
      },
      "execution_count": null,
      "outputs": []
    },
    {
      "cell_type": "code",
      "source": [
        "dadoscompletos[dadoscompletos.Rating == 'RP']"
      ],
      "metadata": {
        "id": "kih3I4qVCSmz"
      },
      "execution_count": null,
      "outputs": []
    },
    {
      "cell_type": "code",
      "source": [
        "dadoscompletos[dadoscompletos.Rating == 'K-A']"
      ],
      "metadata": {
        "id": "5zf9WAv_CdGS"
      },
      "execution_count": null,
      "outputs": []
    },
    {
      "cell_type": "markdown",
      "source": [
        "#Empresas de Desenvolvimento de jogos (Developer)"
      ],
      "metadata": {
        "id": "Tw1erE_dc300"
      }
    },
    {
      "cell_type": "code",
      "source": [
        "dadoscompletos.Developer.isnull().sum()"
      ],
      "metadata": {
        "id": "prDMoaF1dG4b"
      },
      "execution_count": null,
      "outputs": []
    },
    {
      "cell_type": "code",
      "source": [
        "dadoscompletos[['Developer']].describe()"
      ],
      "metadata": {
        "id": "nGQ2e0j3dmLy"
      },
      "execution_count": null,
      "outputs": []
    },
    {
      "cell_type": "code",
      "source": [
        "dadoscompletos.Developer.value_counts()"
      ],
      "metadata": {
        "id": "lhIEAojOepR7"
      },
      "execution_count": null,
      "outputs": []
    },
    {
      "cell_type": "code",
      "source": [
        "dadoscompletos[dadoscompletos.Developer == 'Nintendo'].value_counts().sum()"
      ],
      "metadata": {
        "id": "zSSDnIpFIwTt"
      },
      "execution_count": null,
      "outputs": []
    },
    {
      "cell_type": "markdown",
      "source": [
        "#Plataformas onde os jogos foram lançados (Platform)"
      ],
      "metadata": {
        "id": "SBz2Bpzp9GAo"
      }
    },
    {
      "cell_type": "code",
      "source": [
        "dadoscompletos.Platform.value_counts()"
      ],
      "metadata": {
        "id": "6Rg06e8a9Lzd"
      },
      "execution_count": null,
      "outputs": []
    },
    {
      "cell_type": "markdown",
      "source": [
        "#Empresas responsáveis pela publicação/distribuição dos jogos (Publisher)"
      ],
      "metadata": {
        "id": "v9KOHdxSAlOw"
      }
    },
    {
      "cell_type": "code",
      "source": [
        "novodados1.Publisher.value_counts()"
      ],
      "metadata": {
        "id": "2EEuWWuQAjGt"
      },
      "execution_count": null,
      "outputs": []
    },
    {
      "cell_type": "markdown",
      "source": [
        "#Informações sobre as avaliações dos críticos e dos usuários\n",
        "\n",
        "A avaliação dos críticos (Critic_Score) segue uma pontuação de 0 a 100, enquanto a dos usuários (User_Score) é de 0 a 10."
      ],
      "metadata": {
        "id": "-kjYKX0Uj1pB"
      }
    },
    {
      "cell_type": "code",
      "source": [
        "dadoscompletos.Critic_Score.value_counts().head()"
      ],
      "metadata": {
        "id": "M_f55A1EkBqd"
      },
      "execution_count": null,
      "outputs": []
    },
    {
      "cell_type": "markdown",
      "source": [
        "#Informações sobre as Vendas"
      ],
      "metadata": {
        "id": "3ytkXUCYeqSm"
      }
    },
    {
      "cell_type": "code",
      "source": [
        "dadoscompletos[['NA_Sales', 'EU_Sales', 'JP_Sales', 'Other_Sales']].agg('sum')"
      ],
      "metadata": {
        "id": "w8qHZj6SeXwV"
      },
      "execution_count": null,
      "outputs": []
    },
    {
      "cell_type": "markdown",
      "source": [
        "Comparando o valor das vendas por região, a América do Norte corresponde a quase 50% do total de vendas."
      ],
      "metadata": {
        "id": "wzhoasdgeyRk"
      }
    },
    {
      "cell_type": "code",
      "source": [
        "dadoscompletos[dadoscompletos['JP_Sales']>1]['Publisher'].value_counts()[:10]"
      ],
      "metadata": {
        "id": "lcIsecQmexCV"
      },
      "execution_count": null,
      "outputs": []
    },
    {
      "cell_type": "markdown",
      "source": [
        "No mercado Japonês a Nintendo domina as vendas com 126 jogos, seguida pela Sony com apenas 16 títulos."
      ],
      "metadata": {
        "id": "m51RsMjqfe9Q"
      }
    },
    {
      "cell_type": "code",
      "source": [
        "dadoscompletos[dadoscompletos['NA_Sales']>1]['Publisher'].value_counts()[:10]"
      ],
      "metadata": {
        "id": "27O_XaqHfp7L"
      },
      "execution_count": null,
      "outputs": []
    },
    {
      "cell_type": "markdown",
      "source": [
        "O mesmo acontece no mercado Norte Americano. A Nintendo possui 171 jogos, mas a diferença para a segunda maior empresa divulgadora é menor, Electronic Arts com 144 títulos."
      ],
      "metadata": {
        "id": "tM0Pihblf3Uh"
      }
    },
    {
      "cell_type": "code",
      "source": [
        "dadoscompletos[dadoscompletos['NA_Sales']>1]['Genre'].value_counts()"
      ],
      "metadata": {
        "id": "YaepOk19gRb1"
      },
      "execution_count": null,
      "outputs": []
    },
    {
      "cell_type": "markdown",
      "source": [
        "Os três gêneros mais comprados na América do Norte são: action, shooter e sports. E o menos procurado é o de adventure."
      ],
      "metadata": {
        "id": "bmKPR2-hgiiq"
      }
    },
    {
      "cell_type": "code",
      "source": [
        "dadoscompletos[dadoscompletos['NA_Sales']>1]['Platform'].value_counts()[:10]"
      ],
      "metadata": {
        "id": "z6EUFLZOgYQh"
      },
      "execution_count": null,
      "outputs": []
    },
    {
      "cell_type": "markdown",
      "source": [
        "#Tidy Data"
      ],
      "metadata": {
        "id": "suzma8lvalp7"
      }
    },
    {
      "cell_type": "code",
      "source": [
        "tidy_dataset2 = dadoscompletos.drop('Global_Sales', axis=1)\n",
        "tidy_dataset2 = tidy_dataset2.rename({'NA_Sales': 'North_America', 'EU_Sales': 'Europe', 'JP_Sales': 'Japan', 'Other_Sales': 'Other'}, axis=1)\n",
        "tidy_dataset2 = pd.melt(tidy_dataset2, id_vars=['Id', 'Name', 'Platform', 'Year_of_Release', 'Genre', 'Publisher', 'Critic_Score', 'Critic_Count', 'User_Score', 'User_Count', 'Developer', 'Rating'], var_name='Region', value_name='Sold_Millions_Units')"
      ],
      "metadata": {
        "id": "5Al6oyhNastZ"
      },
      "execution_count": null,
      "outputs": []
    },
    {
      "cell_type": "code",
      "source": [
        "tidy_dataset2[tidy_dataset2.Name == 'Donkey Kong']"
      ],
      "metadata": {
        "id": "x4K7_hwDa7AX"
      },
      "execution_count": null,
      "outputs": []
    },
    {
      "cell_type": "markdown",
      "source": [
        "# **Acelerando**"
      ],
      "metadata": {
        "id": "vMzKZuBRMt8G"
      }
    },
    {
      "cell_type": "markdown",
      "source": [
        "\n",
        "**Relacionamento das variáveis e Tendências:**\n",
        "\n",
        "As variáveis possuem algum tipo de correlação? Caso positivo, investigue os coeficientes de correlação existentes, identifique os aplicáveis, selecione um, utilize no dataset e explique.\n",
        "\n",
        "Existe alguma tendência no Dataset? Ex: de quantidade de vendas em determinados anos, por gênero, console ou plataforma."
      ],
      "metadata": {
        "id": "5nUf9L646ELk"
      }
    },
    {
      "cell_type": "markdown",
      "source": [
        "**Conclusões e Direcionamentos para os próximos passos:**\n",
        "\n",
        "\n",
        "**Que outras perguntas você acredita que poderiam ter sido feitas para auxiliar na exploração dos dados?**\n",
        "\n",
        "\n",
        "**Como você apresentaria o seu estudo para a CEO?**"
      ],
      "metadata": {
        "id": "ekw8q7AaWScx"
      }
    },
    {
      "cell_type": "markdown",
      "source": [
        "# Gráficos"
      ],
      "metadata": {
        "id": "bbOxKF4-W38M"
      }
    },
    {
      "cell_type": "markdown",
      "source": [
        "**Gráfico 8 - Lançamento de jogos por gênero**"
      ],
      "metadata": {
        "id": "NiPCLb3YW2cK"
      }
    },
    {
      "cell_type": "code",
      "source": [
        "plt.figure(figsize=(25, 10))\n",
        "fsize=20\n",
        "lsize=15\n",
        "sns.countplot(x=\"Genre\", data=dadoscompletos, order = dadoscompletos['Genre'].value_counts().index)\n",
        "plt.xticks(rotation=45)\n",
        "plt.title('Total de jogos lançados por ano', fontsize=fsize)\n",
        "plt.ylabel('Quantidade de jogos lançados', fontsize=lsize)\n",
        "plt.xlabel('Gênero dos jogos', fontsize=lsize)"
      ],
      "metadata": {
        "id": "0Ze3TY0GWrrz"
      },
      "execution_count": null,
      "outputs": []
    },
    {
      "cell_type": "markdown",
      "source": [
        "\n",
        "\n",
        "---\n",
        "\n"
      ],
      "metadata": {
        "id": "VF9C6fUf3DHZ"
      }
    },
    {
      "cell_type": "markdown",
      "source": [
        "**Gráfico 9 - Total de jogos lançados por ano**\n",
        "\n",
        "O gráfico mostra do ano (2008) com maior jogos lançados para o menor (2020)."
      ],
      "metadata": {
        "id": "fshcetD6XFSx"
      }
    },
    {
      "cell_type": "code",
      "source": [
        "plt.figure(figsize=(25, 10))\n",
        "fsize=20\n",
        "lsize=15\n",
        "sns.countplot(x=\"Year_of_Release\", data=dadoscompletos, order = dadoscompletos.groupby(by=['Year_of_Release'])['Name'].count().sort_values(ascending=False).index)\n",
        "plt.xticks(rotation=90)\n",
        "plt.title('Total de jogos lançados ao ano', fontsize=fsize)\n",
        "plt.ylabel('Quantidade de jogos lançados', fontsize=lsize)\n",
        "plt.xlabel('Ano de lançamento', fontsize=lsize)"
      ],
      "metadata": {
        "id": "Ug6K9Y8pXFSy"
      },
      "execution_count": null,
      "outputs": []
    },
    {
      "cell_type": "markdown",
      "source": [
        "\n",
        "\n",
        "---\n",
        "\n"
      ],
      "metadata": {
        "id": "xM9Fkmnk3IIp"
      }
    },
    {
      "cell_type": "markdown",
      "source": [
        "**Gráfico 10 - Número de jogos por ano de lançamento**\n",
        "\n",
        "O gráfico mostra os anos em ordem crescente (1980 - 2017).\n",
        "Comparando com o gráfico 9, conseguimos visualizar melhor que o número de jogos lançados aumentou ao longo dos anos e teve sua máxima em 2008 e, a partir disso, esse número foi diminuindo."
      ],
      "metadata": {
        "id": "QGAoEyQA3bfN"
      }
    },
    {
      "cell_type": "code",
      "source": [
        "titles_by_year = dadoscompletos.groupby(['Year_of_Release']).agg({'Name':lambda x : len(x) if (len(x) > 1) else None}).dropna()\n",
        "plt.subplots(figsize=(12,5))\n",
        "ax = sns.pointplot(x=titles_by_year.index, y=titles_by_year.Name)\n",
        "g = ax.set_xticklabels(ax.get_xticklabels(), rotation=45)\n",
        "ax.set_title('Número de jogos por ano de lançamento', size=25, color='black', alpha=0.5)\n",
        "ax.set_xlabel('Ano de lançamento', size=25, color='green', alpha=0.5)\n",
        "ax.set_ylabel('Número de jogos', size=25, color='green', alpha=0.5)"
      ],
      "metadata": {
        "id": "27PMhlTgzmGP"
      },
      "execution_count": null,
      "outputs": []
    },
    {
      "cell_type": "markdown",
      "source": [
        "**Gráfico 11 - Os 5 anos com mais lançamento de jogos por gênero**"
      ],
      "metadata": {
        "id": "0sI_uz4qXFSy"
      }
    },
    {
      "cell_type": "code",
      "source": [
        "plt.figure(figsize=(25, 10))\n",
        "fsize=20\n",
        "lsize=15\n",
        "sns.countplot(x=\"Year_of_Release\", data=dadoscompletos, hue='Genre', order=dadoscompletos.Year_of_Release.value_counts().iloc[:5].index)\n",
        "plt.xticks(size=13, rotation=90)\n",
        "plt.title('Os 5 anos com mais de lançamento de jogo por gênero', fontsize=fsize)\n",
        "plt.ylabel('Quantidade de jogos lançados', fontsize=lsize)\n",
        "plt.xlabel('Ano de lançamento', fontsize=lsize)"
      ],
      "metadata": {
        "id": "eSpCfF6IXFSz"
      },
      "execution_count": null,
      "outputs": []
    },
    {
      "cell_type": "markdown",
      "source": [
        "**Gráfico 12 - Total de vendas global por gênero**"
      ],
      "metadata": {
        "id": "u-GNJdezwSGt"
      }
    },
    {
      "cell_type": "code",
      "source": [
        "global_sales_by_genre = dadoscompletos.groupby('Genre').agg({'Global_Sales' :np.sum}).sort_values('Global_Sales')\n",
        "plt.subplots(figsize=(11,8))\n",
        "ax = sns.barplot(x=global_sales_by_genre.index, y=global_sales_by_genre.Global_Sales)\n",
        "ax.set_title('Total de Vendas Global por Gênero (1980-2020)', color='black', size=25, alpha=0.5)\n",
        "ax.set_xlabel('Gênero do jogo', color='green', size=20, alpha=0.5)\n",
        "ax.set_ylabel('Total de Vendas Global', color='green', size=20, alpha=0.5)"
      ],
      "metadata": {
        "id": "vdMaqv-guxyg"
      },
      "execution_count": null,
      "outputs": []
    },
    {
      "cell_type": "markdown",
      "source": [
        "**Gráfico 13 - As 10 Distribuidoras por Venda Global**"
      ],
      "metadata": {
        "id": "43mSdeZRyUNB"
      }
    },
    {
      "cell_type": "code",
      "source": [
        "global_sales_publisher = dadoscompletos.pivot_table(index=['Publisher'], values=['Global_Sales', 'NA_Sales', 'EU_Sales', 'JP_Sales'], \n",
        "                                                    aggfunc=np.sum).sort_values(['Global_Sales'], ascending=False)\n",
        "global_sales_publisher = global_sales_publisher[['Global_Sales', 'NA_Sales', 'EU_Sales', 'JP_Sales']]\n",
        "ax = global_sales_publisher.iloc[0:10,:].plot(kind='bar', stacked=True, grid=False)\n",
        "ax.set_title('Top 10 Distribuidoras por Venda Global', color='black', size=25, alpha=0.5)\n",
        "ax.set_xlabel('Distribuidora', color='green', size=20, alpha=0.5)\n",
        "ax.set_ylabel('Vendas', color='green', size=20, alpha=0.5)"
      ],
      "metadata": {
        "id": "AWxKls_2wvo7"
      },
      "execution_count": null,
      "outputs": []
    },
    {
      "cell_type": "markdown",
      "source": [
        "\n",
        "\n",
        "---\n",
        "\n",
        "\n"
      ],
      "metadata": {
        "id": "h_XFI7QjKmSN"
      }
    },
    {
      "cell_type": "markdown",
      "source": [
        "**Gráfico 14 - Total de Vendas por Plataformas**"
      ],
      "metadata": {
        "id": "57VXnr7SKmir"
      }
    },
    {
      "cell_type": "code",
      "source": [
        "global_sales_by_platform = dadoscompletos.groupby('Platform').agg({'Global_Sales' :np.sum}).sort_values('Global_Sales')\n",
        "plt.subplots(figsize=(20,8))\n",
        "ax = sns.barplot(x=global_sales_by_platform.index, y=global_sales_by_platform.Global_Sales)\n",
        "ax.set_title('Total de Vendas Global por Plataformas', color='black', size=25, alpha=0.5)\n",
        "ax.set_xlabel('Plataforma do jogo', color='green', size=20, alpha=0.5)\n",
        "ax.set_ylabel('Total de Vendas Global', color='green', size=20, alpha=0.5)"
      ],
      "metadata": {
        "id": "QsfFHIfQKyNY"
      },
      "execution_count": null,
      "outputs": []
    },
    {
      "cell_type": "markdown",
      "source": [
        "#**O que você tira desse case?**\n",
        "\n",
        "* Os dados correspondem ao período de tempo de 40 anos, entre 1980 e 2020.\n",
        "O ano com mais lançamentos foi 2008 (total de 1427 jogos) e em 2020 só foi lançado 1 jogo.\n",
        "Podemos observar que em 1993 foram lançados 62 jogos e no ano seguinte esse número dobrou (121 jogos). Uma explicação para isso é que em 1994 a Sony entrou no mercado de videogames com o lançamento do seu primeiro console, o PlayStation.\n",
        "\n",
        "* Também vemos que as vendas aumentaram ao longo dos anos, mas a partir de 2008 o número de jogos em mídias físicas diminuiu e o dataset fornecido não contempla as vendas de jogos online em plataformas (ex: Steam).\n",
        "Com o aumento do uso de smartphones, surgiram mais jogos desenvolvidos para o mobile (IOS e Android).\n",
        "Além disso, os consoles lançados nos últimos anos não possuem mais entrada para mídia física e os jogos começam a ser lançados em mídia digital.\n",
        "\n",
        "* Quanto ao gênero/categoria, os jogos de action são os mais vendidos mundialmente, seguidos por sports. Já os de strategy tem o menor número de vendas global.\n",
        "\n",
        "* Uma das possíveis fontes do Dataset3 pode ser o site Metacritic https://www.metacritic.com/, onde os jogos podem ser avaliados pelos críticos (pontuação de 0 a 100) e pelos usuários (pontuação de 0 a 10).\n",
        "O site também apresenta outras informações sobre os jogos como ano de lançamento, empresa que desenvolveu, classificação segundo a EBSR, entre outras.\n",
        "\n",
        "* Com relação a classificação dos jogos (Rating), a maioria do nosso banco de dados é \"E - Everyone\", ou seja, jogos que contém conteúdo indicado para todas as idades. \n",
        "Jogos com classificação \"AO - Adults Only\", com conteúdo considerado impróprio para menores de 18 anos, temos apenas 1 no banco de dados (Grand Theft Auto: San Andreas).\n",
        "\n",
        "* Entre as empresas de desenvolvimento de jogos, a Ubisoft é a que possui mais jogos (204), seguida pela EA Sports (172) e a EA Canada (167). A Nintendo é responsável pelo desenvolvimento de 68 jogos.\n",
        "\n",
        "* As 5 empresas (Publisher) com maior número de jogos distribuídos são: Nintendo, Activision, Take-Two Interactive, Sony Computer Entertainment e Electronic Arts. Mas se analisarmos o total de vendas temos: Nintendo, Eletronic Arts, Activision, Sony Computer Entertainment e Ubisoft.\n",
        "\n",
        "* Com relação a Plataforma do jogo, temos para as 5 plataformas com mais jogos: PS2 (2161 jogos), DS (2152 jogos), PS3 (1331 jogos), Wii (1320 jogos) e X360 (1262 jogos). Considerando o total de vendas a ordem altera um pouco: PS2, X360, PS3, Wii e DS."
      ],
      "metadata": {
        "id": "kUGT6OyfWZlw"
      }
    }
  ]
}